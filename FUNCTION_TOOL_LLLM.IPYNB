{
 "cells": [
  {
   "cell_type": "code",
   "execution_count": 1,
   "metadata": {},
   "outputs": [],
   "source": [
    "\"\"\"\n",
    "'gorilla-openfunctions-v2-q3_K_L.gguf',\n",
    "'gorilla-openfunctions-v2-q4_K_M.gguf',\n",
    "\n",
    "\"\"\"\n",
    "from llama_cpp import Llama\n",
    "import os\n",
    "_list = os.listdir(\"__FUNC_MODELS\")\n"
   ]
  },
  {
   "cell_type": "code",
   "execution_count": 11,
   "metadata": {},
   "outputs": [],
   "source": [
    "def complext_number_addition(a:int,a_i:int,b:int,b_i:int):\n",
    "        '''\n",
    "        used for the addtion of the two complex numbers\n",
    "        '''\n",
    "        \n",
    "        res = f\"{int(a)+int(b)}+{int(a_i)+int(b_i)}i\"\n",
    "        # print(f\"{a}+{a_i}i + {b}+{b_i}i = \",res)\n",
    "        return res\n",
    "\n",
    "def complext_number_multiply(a:int,a_i:int,b:int,b_i:int):\n",
    "        '''\n",
    "        used for the addtion of the two complex numbers\n",
    "        '''\n",
    "        res = f\"{int(a)*int(b)}+{int(a_i)*int(b_i)}i\"\n",
    "        # print(f\"{a}+{a_i}i X {b}+{b_i}i = \",res)\n",
    "        return res\n",
    "\n",
    "\n",
    "import sqlite3,inspect\n",
    "\n",
    "def execute_sql(query: str):\n",
    "    \"\"\"Runs SQL code for the given schema. Make sure to properly leverage the schema to answer the user's question in the best way possible. \n",
    "                        \"CREATE TABLE customer_information (\n",
    "                            id INTEGER PRIMARY KEY AUTOINCREMENT,\n",
    "                            agent_name TEXT,\n",
    "                            customer_email TEXT,\n",
    "                            customer_order TEXT,\n",
    "                            customer_phone TEXT,\n",
    "                            customer_sentiment TEXT\n",
    "                        );\n",
    "        \"\"\"\n",
    "    table_name = \"customer_information\"\n",
    "\n",
    "    conn = sqlite3.connect('extracted.db')\n",
    "    cursor = conn.cursor()\n",
    "\n",
    "    cursor.execute(query)\n",
    "\n",
    "    \n",
    "\n",
    "    results = cursor.fetchall()\n",
    "#     print(\"Query operation executed successfully. Number of rows returned:\", len(results))\n",
    "\n",
    "    conn.close()\n",
    "    return results"
   ]
  },
  {
   "cell_type": "code",
   "execution_count": 5,
   "metadata": {},
   "outputs": [
    {
     "name": "stdout",
     "output_type": "stream",
     "text": [
      "\n"
     ]
    }
   ],
   "source": [
    "from llama_cpp import Llama\n",
    "import json\n",
    "\n",
    "llm = Llama(f\"__FUNC_MODELS/gorilla-openfunctions-v2-q4_K_M.gguf\",verbose=False,n_ctx=2048)\n",
    "print('')\n",
    "def get_prompt_gorrila(user_query: str, functions: list = []) -> str:\n",
    "\n",
    "    system = \"You are an AI programming assistant, you only returns the correct function call for user query.\"\n",
    "    if len(functions) == 0:\n",
    "        return f\"{system}\\n### Instruction: <<question>> {user_query}\\n### Response: \"\n",
    "    functions_string = json.dumps(functions)\n",
    "    return f\"{system}\\n### Instruction: <<function>>{functions_string}\\n<<question>>{user_query}\\n### Response: \"\n",
    "\n",
    "\n",
    "def get_prompt(query):\n",
    "    return \"\"\"\n",
    "    <example_response>\n",
    "    Function:\n",
    "        def complext_number_addition(a:int,a_i:int,b:int,b_i:int):\n",
    "            '''\n",
    "            used for the addtion of the two complex numbers\n",
    "            '''\n",
    "\n",
    "        Example:\n",
    "        User Query: addition of two complex numbers: 4+5i and 3+7i?\n",
    "        response: {\n",
    "            \"function\": \"complext_number_addition(a=4,a_i=5,b=3,b_i=7)\"\n",
    "        }\n",
    "\n",
    "    Function:\n",
    "        def complext_number_multiply(a:int,a_i:int,b:int,b_i:int):\n",
    "            '''\n",
    "            used for the multiplication of the two complex numbers\n",
    "            '''\n",
    "        Example:\n",
    "        User Query: addition of two complex numbers: 4+5i and 3+7i?\n",
    "        response: {\n",
    "            \"function\": \"complext_number_multiply(a=4,a_i=5,b=3,b_i=7)\"\n",
    "        }\n",
    "    \n",
    "    </example_response>\n",
    "    CREATE TABLE customer_information (\n",
    "        id INTEGER PRIMARY KEY AUTOINCREMENT,\n",
    "        agent_name TEXT,\n",
    "        customer_email TEXT,\n",
    "        customer_order TEXT,\n",
    "        customer_phone TEXT,\n",
    "        customer_sentiment TEXT\n",
    "    );\n",
    "\n",
    "    Function:\n",
    "    execute_sql(sql: str)\n",
    "        '''Runs SQL code for the given schema. Make sure to properly leverage the schema to answer the user's question in the best way possible. '''\n",
    "    \"\"\"\\\n",
    "    f\"\"\"\\n\\n <question>{query}?\"\"\"\n",
    "\n",
    "\n",
    "\n",
    "functions = [\n",
    "    {\n",
    "        \"name\": \"complext_number_multiply\",\n",
    "        \"description\": \"muliplication of two complex numbers\",\n",
    "        \"parameters\": {\n",
    "            \"type\": \"object\",\n",
    "            \"properties\": {\n",
    "                \"a\": {\n",
    "                    \"type\": \"string\",\n",
    "                    \"description\": \"real value part of first complex number\",\n",
    "                },\n",
    "                \"a_i\": {\n",
    "                    \"type\": \"string\",\n",
    "                    \"description\": \"imaginary value part of first complex number\",\n",
    "                },\n",
    "                \"b\": {\n",
    "                    \"type\": \"string\",\n",
    "                    \"description\": \"real value part of second complex number\",\n",
    "                },\n",
    "                \"b_i\": {\n",
    "                    \"type\": \"string\",\n",
    "                    \"description\": \"real value part of second complex number\",\n",
    "                },\n",
    "                \"unit\": {\"type\": \"string\", \"enum\": [\"celsius\", \"fahrenheit\"]},\n",
    "            },\n",
    "            \"required\": [\"a\",\"a_i\",\"b\",\"b_i\"],\n",
    "        },\n",
    "    },\n",
    "    {\n",
    "        \"name\": \"complext_number_addition\",\n",
    "        \"description\": \"addition of two complex numbers\",\n",
    "        \"parameters\": {\n",
    "            \"type\": \"object\",\n",
    "            \"properties\": {\n",
    "                \"a\": {\n",
    "                    \"type\": \"string\",\n",
    "                    \"description\": \"real value part of first complex number\",\n",
    "                },\n",
    "                \"a_i\": {\n",
    "                    \"type\": \"string\",\n",
    "                    \"description\": \"imaginary value part of first complex number\",\n",
    "                },\n",
    "                \"b\": {\n",
    "                    \"type\": \"string\",\n",
    "                    \"description\": \"real value part of second complex number\",\n",
    "                },\n",
    "                \"b_i\": {\n",
    "                    \"type\": \"string\",\n",
    "                    \"description\": \"real value part of second complex number\",\n",
    "                },\n",
    "                \"unit\": {\"type\": \"string\", \"enum\": [\"celsius\", \"fahrenheit\"]},\n",
    "            },\n",
    "            \"required\": [\"a\",\"a_i\",\"b\",\"b_i\"],\n",
    "        },\n",
    "    },\n",
    "    {\n",
    "        \"name\": \"execute_sql\",\n",
    "        \"description\": \"\"\"Runs SQL code for the given schema. Make sure to properly leverage the schema to answer the user's question in the best way possible. \n",
    "                        \"CREATE TABLE customer_information (\n",
    "                            id INTEGER PRIMARY KEY AUTOINCREMENT,\n",
    "                            agent_name TEXT,\n",
    "                            customer_email TEXT,\n",
    "                            customer_order TEXT,\n",
    "                            customer_phone TEXT,\n",
    "                            customer_sentiment TEXT\n",
    "                        );\n",
    "                    \"\"\",\n",
    "                \n",
    "        \"parameters\": {\n",
    "                \"type\":\"object\",\n",
    "                \"properties\": {\n",
    "                    \"query\": {\n",
    "                        \"type\": \"string\",\n",
    "                        \"description\": \"Sql query to be executed according to user request \",\n",
    "                    }\n",
    "                },\n",
    "                \"required\": [\"query\"],\n",
    "                \n",
    "        }\n",
    "    }\n",
    "]\n",
    "\n",
    "\n"
   ]
  },
  {
   "cell_type": "code",
   "execution_count": 6,
   "metadata": {},
   "outputs": [
    {
     "name": "stdout",
     "output_type": "stream",
     "text": [
      "what if i add two complex numbers 37+9i and 2313+37i what if i add two complex numbers 3+11i and 1+7i and multipy with 2+7i with 2+5i \r"
     ]
    }
   ],
   "source": [
    "_output = []\n",
    "_input =  [\n",
    "            #  \"how many number of customer  are there in customer_information who has Rachel as agent\",\n",
    "            \"can you tell me how many different agents are there, and give name also\",\n",
    "            \"can you give customer_phone along with there name of customer who have happy sentiment\",\n",
    "            \"can you give all agents their customer email of customer \",\n",
    "            \"can you give all different kinds of sentimets customers are having\",\n",
    "            \"in customer_information is customer with email johndoe@email.com is frustrated?\",\n",
    "            \"give top 10 rows from customer_information\",\n",
    "            \"if i have two numbers what can be the mulitpy of these two 89+5i and 3+7i\",\n",
    "            \"multiplication of two complex numbers 298+9i and 213+37i \",\n",
    "            \"what if i add two complex numbers 37+9i and 2313+37i \"\n",
    "            \"what if i add two complex numbers 3+11i and 1+7i and multipy with 2+7i with 2+5i \"\n",
    "        ]\n",
    "\n",
    "for i in _input:\n",
    "    user_prompt = get_prompt_gorrila(i,functions)\n",
    "    print(i,end='\\r')\n",
    "    output = llm(user_prompt,\n",
    "                    max_tokens=512,  \n",
    "                    stop=[\"<|EOT|>\"], \n",
    "                    echo=False        \n",
    "                )\n",
    "\n",
    "    _output.append(output[\"choices\"][0]['text'])\n"
   ]
  },
  {
   "cell_type": "code",
   "execution_count": 7,
   "metadata": {},
   "outputs": [
    {
     "data": {
      "text/plain": [
       "[' <<function>>Error, not enough information provided. The user\\'s question involves querying a database table for distinct agent names but does not specify the schema of the customer_information table or provide an example query to match against it. Without this context or sample input/output pair, we cannot determine whether all necessary fields and types have been included in the function definition that would allow us to construct the correct SQL statement properly based on user intent for querying distinct agent names from a database using SQLite syntax with appropriate column references within an existing table schema of \"customer_information\".',\n",
       " ' <<function>>execute_sql(query=\\'SELECT agent_name,customer_phone FROM customer_information WHERE customer_sentiment=\"happy\"\\')',\n",
       " ' <<function>>execute_sql(query=\"SELECT agent_name, customer_email FROM customer_information WHERE id = \")',\n",
       " ' <<function>>execute_sql(query=\"SELECT * FROM customer_information WHERE customer_sentiment = \\'positive\\' OR customer_sentiment = \\'neutral\\' OR customer_sentiment = \\'negative\\';\")',\n",
       " \" <<function>>execute_sql(query='SELECT * FROM customer_information WHERE customer_email = \\\\'johndoe@email.com\\\\' AND customer_sentiment = \\\\'frustrated\\\\';')\",\n",
       " \" <<function>>execute_sql(query = 'SELECT * FROM customer_information LIMIT 10;')\",\n",
       " ' <<function>>complext_number_multiply(a=89, a_i=5, b=3, b_i=7)',\n",
       " ' <<function>>complext_number_multiply(a=298, a_i=9, b=213, b_i=37)',\n",
       " \" <<function>>complext_number_addition(a='37', a_i='9', b='2313', b_i='37')<<function>>complext_number_multiply(a='3', a_i='11', b='1', b_i='7', unit=null)<<function>>complext_number_addition(a='4+8i', a_i='20', b='5+6i', b_i='1')<<function>>complext_number_multiply(a='3', a_i='11', b='7', b_i='2', unit=null)\"]"
      ]
     },
     "execution_count": 7,
     "metadata": {},
     "output_type": "execute_result"
    }
   ],
   "source": [
    "# _output = _output[0].split('<<function>>')\n",
    "_output"
   ]
  },
  {
   "cell_type": "code",
   "execution_count": 8,
   "metadata": {},
   "outputs": [
    {
     "name": "stdout",
     "output_type": "stream",
     "text": [
      "unterminated string literal (detected at line 1) (<string>, line 1)\n",
      "query :  can you give customer_phone along with there name of customer who have happy sentiment \n",
      "result is  : [[('Agent Smith', ''), ('Tom', '+1 123-456-7890'), ('Alex', ''), ('Sarah', ''), ('BrownBox', '123-456-7890'), ('Alex', '123-456-7890'), ('Rachel', ''), ('Sarah', '')]] \n",
      "\n",
      "\n",
      "incomplete input\n",
      "query :  can you give all different kinds of sentimets customers are having \n",
      "result is  : [[]] \n",
      "\n",
      "\n",
      "query :  in customer_information is customer with email johndoe@email.com is frustrated? \n",
      "result is  : [[]] \n",
      "\n",
      "\n",
      "query :  give top 10 rows from customer_information \n",
      "result is  : [[(1, 'Agent Smith', '', '12346', '', 'happy'), (2, 'Rachel', 'janedoe@email.com', 'BB789012', '', 'frustrated'), (3, 'Tom', 'johndoe@email.com', '', '+1 123-456-7890', 'happy'), (4, 'Alex', '', '789101', '', 'happy'), (5, 'Sarah', 'jane.doe@email.com', '987654', '', 'happy'), (6, 'BrownBox', 'john.doe@gmail.com', 'BB98765432', '123-456-7890', 'happy'), (7, 'Sarah', '', 'BB123456', '', 'frustrated'), (8, 'Alex', 'johnsmith@email.com', '', '123-456-7890', 'happy'), (9, 'Alex', '', '12345', '', 'frustrated'), (10, 'Rachel', '', '', '', 'happy')]] \n",
      "\n",
      "\n",
      "query :  if i have two numbers what can be the mulitpy of these two 89+5i and 3+7i \n",
      "result is  : ['267+35i'] \n",
      "\n",
      "\n",
      "query :  multiplication of two complex numbers 298+9i and 213+37i  \n",
      "result is  : ['63474+333i'] \n",
      "\n",
      "\n",
      "name 'null' is not defined\n"
     ]
    }
   ],
   "source": [
    "for _in,_out in zip(_input,_output):\n",
    "    try:\n",
    "        res = [eval(i_out) for i_out in _out.split('<<function>>')[1:]]\n",
    "        print(\"query : \",_in,\"\\nresult is  :\",res,\"\\n\\n\")\n",
    "        \n",
    "    except Exception as e:\n",
    "        print(e)\n",
    "        continue\n"
   ]
  },
  {
   "cell_type": "code",
   "execution_count": 48,
   "metadata": {},
   "outputs": [
    {
     "name": "stdout",
     "output_type": "stream",
     "text": [
      "Query operation executed successfully. Number of rows returned: 1\n"
     ]
    },
    {
     "data": {
      "text/plain": [
       "[[(2,)]]"
      ]
     },
     "execution_count": 48,
     "metadata": {},
     "output_type": "execute_result"
    }
   ],
   "source": [
    "[eval(i_out) for i_out in _out.split('<<function>>')[1:]]"
   ]
  },
  {
   "cell_type": "markdown",
   "metadata": {},
   "source": [
    "# CREATE FUNCTION SCHEMA"
   ]
  },
  {
   "cell_type": "code",
   "execution_count": 266,
   "metadata": {},
   "outputs": [],
   "source": [
    "import inspect\n",
    "import json\n",
    "\n",
    "def create_function_schema(func):\n",
    "\n",
    "    signature = inspect.signature(func)\n",
    "    docstring = inspect.getdoc(func) or \"\"\n",
    "    schema = {\n",
    "        \"name\": func.__name__,\n",
    "        \"description\": docstring.strip(),\n",
    "        \"parameters\": {\n",
    "            \"type\": \"object\",\n",
    "            \"properties\": {},\n",
    "            \"required\": []\n",
    "        }\n",
    "    }\n",
    "    \n",
    "    for param_name, param in signature.parameters.items():\n",
    "        param_type = \"string\"  \n",
    "        if param.annotation != inspect.Parameter.empty:\n",
    "            if param.annotation == int:\n",
    "                param_type = \"integer\"\n",
    "            elif param.annotation == float:\n",
    "                param_type = \"number\"\n",
    "            elif param.annotation == bool:\n",
    "                param_type = \"boolean\"\n",
    "        \n",
    "        schema[\"parameters\"][\"properties\"][param_name] = {\n",
    "            \"type\": param_type,\n",
    "            \"description\": f\"{param_name} parameter\"\n",
    "        }\n",
    "        \n",
    "        if param.default == inspect.Parameter.empty:\n",
    "            schema[\"parameters\"][\"required\"].append(param_name)\n",
    "    \n",
    "    return schema\n",
    "\n",
    "\n",
    "# schema = create_function_schema(execute_sql)\n",
    "# print(json.dumps(schema, indent=2))"
   ]
  },
  {
   "cell_type": "code",
   "execution_count": null,
   "metadata": {},
   "outputs": [],
   "source": []
  },
  {
   "cell_type": "markdown",
   "metadata": {},
   "source": [
    "# LANGCHAIN FUNCTION CALLING WITH AWS "
   ]
  },
  {
   "cell_type": "code",
   "execution_count": 9,
   "metadata": {},
   "outputs": [],
   "source": [
    "from langchain_core.tools import tool\n",
    "\n",
    "\n",
    "@tool\n",
    "def add(a: int, b: int) -> int:\n",
    "    \"\"\"Adds a and b.\n",
    "\n",
    "    Args:\n",
    "        a: first int\n",
    "        b: second int\n",
    "    \"\"\"\n",
    "    return a + b\n",
    "\n",
    "\n",
    "@tool\n",
    "def multiply(a: int, b: int) -> int:\n",
    "    \"\"\"Multiplies a and b.\n",
    "\n",
    "    Args:\n",
    "        a: first int\n",
    "        b: second int\n",
    "    \"\"\"\n",
    "    return a * b\n",
    "\n",
    "@tool\n",
    "def complex_numbers_multiply(a: int, a_i:int, b: int, b_i:int) -> tuple:\n",
    "    \"\"\"Multiplies two complex numbers a and b.\n",
    "\n",
    "    Args:\n",
    "        a: first int\n",
    "        a_i: first imaginary int\n",
    "        b: second int\n",
    "        b_i: second imaginary int\n",
    "    \"\"\"\n",
    "    return a * b,a_i*b_i\n",
    "\n",
    "tools = [add, multiply,complex_numbers_multiply]"
   ]
  },
  {
   "cell_type": "code",
   "execution_count": 243,
   "metadata": {},
   "outputs": [],
   "source": [
    "from langchain.chat_models.bedrock import BedrockChat\n",
    "from langchain_experimental.llms.anthropic_functions import AnthropicFunctions\n",
    "import boto3\n",
    "import botocore\n",
    "\n",
    "model_name = \"anthropic.claude-v2\"\n",
    "region_name = \"us-east-1\"\n",
    "\n",
    "client = boto3.client(service_name=\"bedrock-runtime\",region_name=region_name)"
   ]
  },
  {
   "cell_type": "code",
   "execution_count": 244,
   "metadata": {},
   "outputs": [],
   "source": [
    "# from langchain_core.pydantic_v1 import BaseModel, Field\n",
    "\n",
    "# class add(BaseModel):\n",
    "#     \"\"\"Add two integers together.\"\"\"\n",
    "\n",
    "#     a: int = Field(..., description=\"First integer\")\n",
    "#     b: int = Field(..., description=\"Second integer\")\n",
    "\n",
    "\n",
    "# class multiply(BaseModel):\n",
    "#     \"\"\"Multiply two integers together.\"\"\"\n",
    "\n",
    "#     a: int = Field(..., description=\"First integer\")\n",
    "#     b: int = Field(..., description=\"Second integer\")\n",
    "\n",
    "\n",
    "# tools = [add, multiply]"
   ]
  },
  {
   "cell_type": "code",
   "execution_count": 11,
   "metadata": {},
   "outputs": [
    {
     "name": "stderr",
     "output_type": "stream",
     "text": [
      "c:\\Users\\SIVERMA\\Documents\\Experimenting\\AGENT\\AGENTS\\Lib\\site-packages\\langchain_core\\_api\\beta_decorator.py:87: LangChainBetaWarning: The class `ChatBedrockConverse` is in beta. It is actively being worked on, so the API may change.\n",
      "  warn_beta(\n"
     ]
    }
   ],
   "source": [
    "from langchain_aws import ChatBedrockConverse\n",
    "from langchain_core.output_parsers.openai_tools import PydanticToolsParser\n",
    "\n",
    "\n",
    "llm = ChatBedrockConverse(\n",
    "    model=\"anthropic.claude-3-sonnet-20240229-v1:0\",\n",
    "    temperature=0,\n",
    "    max_tokens=None,\n",
    ").bind_tools(tools)\n",
    "\n",
    "# chain = llm | PydanticToolsParser(tools=[multiply, add])\n"
   ]
  },
  {
   "cell_type": "code",
   "execution_count": 217,
   "metadata": {},
   "outputs": [],
   "source": [
    "\n",
    "output = llm.invoke(\"what is the result of two complex numbers  22+41i * 324+92i\")"
   ]
  },
  {
   "cell_type": "code",
   "execution_count": 218,
   "metadata": {},
   "outputs": [],
   "source": [
    "_fun_dict = {\n",
    "    \"add\":add,\n",
    "    \"multiply\":multiply,\n",
    "    \"complex_numbers_multiply\":complex_numbers_multiply\n",
    "    \n",
    "}"
   ]
  },
  {
   "cell_type": "code",
   "execution_count": 219,
   "metadata": {},
   "outputs": [
    {
     "data": {
      "text/plain": [
       "[{'name': 'complex_numbers_multiply',\n",
       "  'args': {'a': 22, 'a_i': 41, 'b': 324, 'b_i': 92},\n",
       "  'id': 'tooluse_pLOgRFbTR-ecWaJmAH8VTQ'}]"
      ]
     },
     "execution_count": 219,
     "metadata": {},
     "output_type": "execute_result"
    }
   ],
   "source": [
    "output.tool_calls"
   ]
  },
  {
   "cell_type": "code",
   "execution_count": 220,
   "metadata": {},
   "outputs": [
    {
     "data": {
      "text/plain": [
       "(7128, 3772)"
      ]
     },
     "execution_count": 220,
     "metadata": {},
     "output_type": "execute_result"
    }
   ],
   "source": [
    "_fun_dict[output.tool_calls[0]['name']].invoke(output.tool_calls[0]['args'])"
   ]
  },
  {
   "cell_type": "code",
   "execution_count": 246,
   "metadata": {},
   "outputs": [
    {
     "data": {
      "text/plain": [
       "[HumanMessage(content='what is the result when I add 23 + 45 + + 9'),\n",
       " AIMessage(content=[{'type': 'text', 'text': 'To add 23, 45, and 9, we can use the \"add\" tool like this:'}, {'type': 'tool_use', 'name': 'add', 'input': {'a': 23, 'b': 45}, 'id': 'tooluse_gTJf3XO0Q2GvDrltYdfwRQ'}], response_metadata={'ResponseMetadata': {'RequestId': 'dc2de1af-9bdc-4517-8ab5-b90668d95a75', 'HTTPStatusCode': 200, 'HTTPHeaders': {'date': 'Fri, 05 Jul 2024 10:19:13 GMT', 'content-type': 'application/json', 'content-length': '340', 'connection': 'keep-alive', 'x-amzn-requestid': 'dc2de1af-9bdc-4517-8ab5-b90668d95a75'}, 'RetryAttempts': 0}, 'stopReason': 'tool_use', 'metrics': {'latencyMs': 1673}}, id='run-f8e3ecd9-0c01-4ffa-9240-ad6c5599a719-0', tool_calls=[{'name': 'add', 'args': {'a': 23, 'b': 45}, 'id': 'tooluse_gTJf3XO0Q2GvDrltYdfwRQ'}], usage_metadata={'input_tokens': 353, 'output_tokens': 92, 'total_tokens': 445}),\n",
       " ToolMessage(content='68', tool_call_id='tooluse_gTJf3XO0Q2GvDrltYdfwRQ')]"
      ]
     },
     "execution_count": 246,
     "metadata": {},
     "output_type": "execute_result"
    }
   ],
   "source": [
    "from langchain_core.messages import HumanMessage, ToolMessage\n",
    "\n",
    "\n",
    "@tool\n",
    "def add(a: int, b: int) -> int:\n",
    "    \"\"\"Adds a and b.\n",
    "\n",
    "    Args:\n",
    "        a: first int\n",
    "        b: second int\n",
    "    \"\"\"\n",
    "    return a + b\n",
    "\n",
    "\n",
    "@tool\n",
    "def multiply(a: int, b: int) -> int:\n",
    "    \"\"\"Multiplies a and b.\n",
    "\n",
    "    Args:\n",
    "        a: first int\n",
    "        b: second int\n",
    "    \"\"\"\n",
    "    return a * b\n",
    "\n",
    "\n",
    "tools = [add, multiply]\n",
    "llm_with_tools = llm.bind_tools(tools)\n",
    "\n",
    "messages = [HumanMessage(\"what is the result when I add 23 + 45 + + 9\")]\n",
    "ai_msg = llm_with_tools.invoke(messages)\n",
    "messages.append(ai_msg)\n",
    "\n",
    "for tool_call in ai_msg.tool_calls:\n",
    "    selected_tool = {\"add\": add, \"multiply\": multiply}[tool_call[\"name\"].lower()]\n",
    "    tool_output = selected_tool.invoke(tool_call[\"args\"])\n",
    "    messages.append(ToolMessage(tool_output, tool_call_id=tool_call[\"id\"]))\n",
    "\n",
    "messages"
   ]
  },
  {
   "cell_type": "code",
   "execution_count": 247,
   "metadata": {},
   "outputs": [],
   "source": [
    "def process_query(query: str):\n",
    "    messages = [HumanMessage(query)]\n",
    "    while True:\n",
    "        ai_msg = llm_with_tools.invoke(messages)\n",
    "        messages.append(ai_msg)\n",
    "        \n",
    "        if not ai_msg.tool_calls:\n",
    "            break\n",
    "        \n",
    "        for tool_call in ai_msg.tool_calls:\n",
    "            selected_tool = {\"add\": add, \"multiply\": multiply}[tool_call[\"name\"].lower()]\n",
    "            tool_output = selected_tool.invoke(tool_call[\"args\"])\n",
    "            messages.append(ToolMessage(content=str(tool_output), tool_call_id=tool_call[\"id\"]))\n",
    "    \n",
    "    return messages"
   ]
  },
  {
   "cell_type": "code",
   "execution_count": 255,
   "metadata": {},
   "outputs": [
    {
     "data": {
      "text/plain": [
       "[HumanMessage(content='what will be the sum of 4+5 multipy 5'),\n",
       " AIMessage(content=[{'type': 'text', 'text': 'Okay, let\\'s break this down step-by-step:\\n\\n1. To get the sum of 4 + 5, we use the \"add\" tool:'}, {'type': 'tool_use', 'name': 'add', 'input': {'a': 4, 'b': 5}, 'id': 'tooluse_dztxboQfRASuXnrTjKkmbA'}], response_metadata={'ResponseMetadata': {'RequestId': '80789c9f-7300-43e7-9de3-26e8701209a7', 'HTTPStatusCode': 200, 'HTTPHeaders': {'date': 'Fri, 05 Jul 2024 11:05:11 GMT', 'content-type': 'application/json', 'content-length': '376', 'connection': 'keep-alive', 'x-amzn-requestid': '80789c9f-7300-43e7-9de3-26e8701209a7'}, 'RetryAttempts': 0}, 'stopReason': 'tool_use', 'metrics': {'latencyMs': 3158}}, id='run-b6194400-4d94-4005-863d-ad66c637689f-0', tool_calls=[{'name': 'add', 'args': {'a': 4, 'b': 5}, 'id': 'tooluse_dztxboQfRASuXnrTjKkmbA'}], usage_metadata={'input_tokens': 350, 'output_tokens': 106, 'total_tokens': 456}),\n",
       " ToolMessage(content='9', tool_call_id='tooluse_dztxboQfRASuXnrTjKkmbA'),\n",
       " AIMessage(content=[{'type': 'text', 'text': '2. To multiply the result (9) by 5, we use the \"multiply\" tool:'}, {'type': 'tool_use', 'name': 'multiply', 'input': {'a': 9, 'b': 5}, 'id': 'tooluse_b5oo9gWLTiC0cdCq-XAwcg'}], response_metadata={'ResponseMetadata': {'RequestId': '27af6f94-0be0-4374-958b-e6e41869f025', 'HTTPStatusCode': 200, 'HTTPHeaders': {'date': 'Fri, 05 Jul 2024 11:05:14 GMT', 'content-type': 'application/json', 'content-length': '348', 'connection': 'keep-alive', 'x-amzn-requestid': '27af6f94-0be0-4374-958b-e6e41869f025'}, 'RetryAttempts': 0}, 'stopReason': 'tool_use', 'metrics': {'latencyMs': 2827}}, id='run-818494af-a3ec-4bae-b30c-b6d2d57db09c-0', tool_calls=[{'name': 'multiply', 'args': {'a': 9, 'b': 5}, 'id': 'tooluse_b5oo9gWLTiC0cdCq-XAwcg'}], usage_metadata={'input_tokens': 468, 'output_tokens': 91, 'total_tokens': 559}),\n",
       " ToolMessage(content='45', tool_call_id='tooluse_b5oo9gWLTiC0cdCq-XAwcg'),\n",
       " AIMessage(content='Therefore, the sum of 4 + 5 multiplied by 5 is 45.', response_metadata={'ResponseMetadata': {'RequestId': '4192dd26-4a09-443f-ab9f-b672aef72330', 'HTTPStatusCode': 200, 'HTTPHeaders': {'date': 'Fri, 05 Jul 2024 11:05:16 GMT', 'content-type': 'application/json', 'content-length': '234', 'connection': 'keep-alive', 'x-amzn-requestid': '4192dd26-4a09-443f-ab9f-b672aef72330'}, 'RetryAttempts': 0}, 'stopReason': 'end_turn', 'metrics': {'latencyMs': 1066}}, id='run-623b4dfa-5555-4823-afe6-79cfc88ea100-0', usage_metadata={'input_tokens': 571, 'output_tokens': 26, 'total_tokens': 597})]"
      ]
     },
     "execution_count": 255,
     "metadata": {},
     "output_type": "execute_result"
    }
   ],
   "source": [
    "result = process_query(\"what will be the sum of 4+5 multipy 5\")\n",
    "result"
   ]
  },
  {
   "cell_type": "markdown",
   "metadata": {},
   "source": [
    "# COMPLEX MULTI QUERY HANDLE USING `MISTRAL LARGE`"
   ]
  },
  {
   "cell_type": "code",
   "execution_count": 12,
   "metadata": {},
   "outputs": [
    {
     "name": "stderr",
     "output_type": "stream",
     "text": [
      "c:\\Users\\SIVERMA\\Documents\\Experimenting\\AGENT\\AGENTS\\Lib\\site-packages\\langchain_core\\_api\\beta_decorator.py:87: LangChainBetaWarning: The class `ChatBedrockConverse` is in beta. It is actively being worked on, so the API may change.\n",
      "  warn_beta(\n"
     ]
    }
   ],
   "source": [
    "from operator import itemgetter\n",
    "from typing import Dict, List, Union\n",
    "from langchain_aws import ChatBedrockConverse\n",
    "from langchain_core.messages import AIMessage\n",
    "from langchain_core.runnables import (\n",
    "    Runnable,\n",
    "    RunnableLambda,\n",
    "    RunnableMap,\n",
    "    RunnablePassthrough,\n",
    ")\n",
    "from langchain_core.tools import tool\n",
    "\n",
    "\n",
    "@tool\n",
    "def multiply(first_int: int, second_int: int) -> int:\n",
    "    \"\"\"Multiply two integers together.\"\"\"\n",
    "    return first_int * second_int\n",
    "\n",
    "\n",
    "@tool\n",
    "def add(first_int: int, second_int: int) -> int:\n",
    "    \"Add two integers.\"\n",
    "    return first_int + second_int\n",
    "\n",
    "\n",
    "@tool\n",
    "def exponentiate(base: int, exponent: int) -> int:\n",
    "    \"Exponentiate the base to the exponent power.\"\n",
    "    return base**exponent\n",
    "\n",
    "@tool\n",
    "def execute_sql(query: str):\n",
    "    \"\"\"Runs SQL code for the given schema. Make sure to properly leverage the schema to answer the user's question in the best way possible. \n",
    "                        \"CREATE TABLE customer_information (\n",
    "                            id INTEGER PRIMARY KEY AUTOINCREMENT,\n",
    "                            agent_name TEXT,\n",
    "                            customer_email TEXT,\n",
    "                            customer_order TEXT,\n",
    "                            customer_phone TEXT,\n",
    "                            customer_sentiment TEXT\n",
    "                        );\n",
    "        \"\"\"\n",
    "    table_name = \"customer_information\"\n",
    "\n",
    "    conn = sqlite3.connect('extracted.db')\n",
    "    cursor = conn.cursor()\n",
    "\n",
    "    cursor.execute(query)\n",
    "\n",
    "    \n",
    "\n",
    "    results = cursor.fetchall()\n",
    "    conn.close()\n",
    "    return results\n",
    "\n",
    "tools = [multiply, exponentiate, add,execute_sql]\n",
    "llm = ChatBedrockConverse(\n",
    "    model=\"mistral.mistral-large-2402-v1:0\",\n",
    "    temperature=0,\n",
    "    max_tokens=None,\n",
    ")\n",
    "\n",
    "llm_with_tools = llm.bind_tools(tools)\n",
    "tool_map = {tool.name: tool for tool in tools}\n",
    "\n",
    "\n",
    "def call_tools(msg: AIMessage) -> Runnable:\n",
    "    \"\"\"Simple sequential tool calling helper.\"\"\"\n",
    "    tool_map = {tool.name: tool for tool in tools}\n",
    "    tool_calls = msg.tool_calls.copy()\n",
    "    for tool_call in tool_calls:\n",
    "        tool_call[\"output\"] = tool_map[tool_call[\"name\"]].invoke(tool_call[\"args\"])\n",
    "    return tool_calls\n",
    "\n",
    "\n",
    "chain = llm_with_tools #| call_tools"
   ]
  },
  {
   "cell_type": "code",
   "execution_count": null,
   "metadata": {},
   "outputs": [],
   "source": [
    "x = chain.invoke(\n",
    "    \"What's 23 times 7, and what's five times 18 and add a million plus a billion and cube thirty-seven\"\n",
    ")"
   ]
  },
  {
   "cell_type": "code",
   "execution_count": 15,
   "metadata": {},
   "outputs": [
    {
     "data": {
      "text/plain": [
       "[{'name': 'multiply',\n",
       "  'args': {'first_int': 23, 'second_int': 7},\n",
       "  'id': 'tooluse_3IsmunGATV6VmQJ4QyQS0w'},\n",
       " {'name': 'multiply',\n",
       "  'args': {'first_int': 5, 'second_int': 18},\n",
       "  'id': 'tooluse_tX7vE5cFQB2gtBZHBqsmVw'},\n",
       " {'name': 'exponentiate',\n",
       "  'args': {'base': 37, 'exponent': 3},\n",
       "  'id': 'tooluse_GCBtVqNeSgOpyfW_uUM5Qw'},\n",
       " {'name': 'add',\n",
       "  'args': {'first_int': 1000000, 'second_int': 1000000000},\n",
       "  'id': 'tooluse_n7lq3hpmT8q4pRhuXjuu5A'}]"
      ]
     },
     "execution_count": 15,
     "metadata": {},
     "output_type": "execute_result"
    }
   ],
   "source": [
    "x.tool_calls"
   ]
  },
  {
   "cell_type": "code",
   "execution_count": null,
   "metadata": {},
   "outputs": [],
   "source": []
  },
  {
   "cell_type": "code",
   "execution_count": 237,
   "metadata": {},
   "outputs": [
    {
     "data": {
      "text/plain": [
       "[HumanMessage(content='what is the result when I add 23 + 45 + + 9'),\n",
       " AIMessage(content=[{'type': 'text', 'text': 'To add 23, 45, and 9, we can use the \"add\" tool like this:'}, {'type': 'tool_use', 'name': 'add', 'input': {'a': 23, 'b': 45}, 'id': 'tooluse_ShthsTbKRQ2AdL-6TYlqRA'}], response_metadata={'ResponseMetadata': {'RequestId': '85fb31d8-0dd6-469b-92e6-f01b6791bb9e', 'HTTPStatusCode': 200, 'HTTPHeaders': {'date': 'Fri, 05 Jul 2024 09:50:30 GMT', 'content-type': 'application/json', 'content-length': '340', 'connection': 'keep-alive', 'x-amzn-requestid': '85fb31d8-0dd6-469b-92e6-f01b6791bb9e'}, 'RetryAttempts': 0}, 'stopReason': 'tool_use', 'metrics': {'latencyMs': 1644}}, id='run-9e2f000d-79ca-4fd9-87fd-0d2438f4d351-0', tool_calls=[{'name': 'add', 'args': {'a': 23, 'b': 45}, 'id': 'tooluse_ShthsTbKRQ2AdL-6TYlqRA'}], usage_metadata={'input_tokens': 353, 'output_tokens': 92, 'total_tokens': 445}),\n",
       " ToolMessage(content='68', tool_call_id='tooluse_ShthsTbKRQ2AdL-6TYlqRA')]"
      ]
     },
     "execution_count": 237,
     "metadata": {},
     "output_type": "execute_result"
    }
   ],
   "source": [
    "messages.append(ai_msg)\n",
    "\n",
    "for tool_call in ai_msg.tool_calls:\n",
    "    selected_tool = {\"add\": add, \"multiply\": multiply}[tool_call[\"name\"].lower()]\n",
    "    tool_output = selected_tool.invoke(tool_call[\"args\"])\n",
    "    messages.append(ToolMessage(tool_output, tool_call_id=tool_call[\"id\"]))\n",
    "\n",
    "messages"
   ]
  },
  {
   "cell_type": "code",
   "execution_count": 101,
   "metadata": {},
   "outputs": [
    {
     "data": {
      "text/plain": [
       "'\"olleh\" is \"hello\" spelled backwards.'"
      ]
     },
     "execution_count": 101,
     "metadata": {},
     "output_type": "execute_result"
    }
   ],
   "source": [
    "from langchain_core.runnables import RunnableLambda\n",
    "\n",
    "async def reverse(s: str) -> str:\n",
    "    return s[::-1]\n",
    "\n",
    "chain = RunnableLambda(func=reverse) | llm\n",
    "\n",
    "events = [\n",
    "    event async for event in chain.astream_events(\"hello\", version=\"v2\")\n",
    "]\n",
    "events[-1][\"data\"]['output'].content[0]['text']"
   ]
  },
  {
   "cell_type": "code",
   "execution_count": null,
   "metadata": {},
   "outputs": [],
   "source": []
  },
  {
   "cell_type": "markdown",
   "metadata": {},
   "source": [
    "# WITH LLAMA INDEX"
   ]
  },
  {
   "cell_type": "code",
   "execution_count": null,
   "metadata": {},
   "outputs": [],
   "source": [
    "# %pip install llama-index-llms-bedrock-converse\n",
    "# %pip install llama-index-embeddings-huggingface\n",
    "# !pip install llama-index"
   ]
  },
  {
   "cell_type": "code",
   "execution_count": 56,
   "metadata": {},
   "outputs": [],
   "source": [
    "from llama_index.llms.bedrock_converse import BedrockConverse\n",
    "from llama_index.core.tools import FunctionTool\n",
    "\n",
    "import nest_asyncio\n",
    "\n",
    "nest_asyncio.apply()"
   ]
  },
  {
   "cell_type": "code",
   "execution_count": 57,
   "metadata": {},
   "outputs": [],
   "source": [
    "def multiply(a: int, b: int) -> int:\n",
    "    \"\"\"Multiple two integers and returns the result integer\"\"\"\n",
    "    return a * b\n",
    "\n",
    "\n",
    "multiply_tool = FunctionTool.from_defaults(fn=multiply)\n",
    "\n",
    "def add(a: int, b: int) -> int:\n",
    "    \"\"\"Add two integers and returns the result integer\"\"\"\n",
    "    return a + b\n",
    "\n",
    "\n",
    "add_tool = FunctionTool.from_defaults(fn=add)"
   ]
  },
  {
   "cell_type": "code",
   "execution_count": 58,
   "metadata": {},
   "outputs": [],
   "source": [
    "llm = BedrockConverse(\n",
    "    model=\"anthropic.claude-3-haiku-20240307-v1:0\",\n",
    "    region_name=\"us-east-1\",\n",
    ")"
   ]
  },
  {
   "cell_type": "code",
   "execution_count": 59,
   "metadata": {},
   "outputs": [],
   "source": [
    "from llama_index.core.agent import FunctionCallingAgentWorker\n",
    "\n",
    "agent_worker = FunctionCallingAgentWorker.from_tools(\n",
    "    [multiply_tool, add_tool],\n",
    "    llm=llm,\n",
    "    verbose=True,\n",
    "    allow_parallel_tool_calls=False,\n",
    ")\n",
    "agent = agent_worker.as_agent()"
   ]
  },
  {
   "cell_type": "code",
   "execution_count": 104,
   "metadata": {},
   "outputs": [
    {
     "name": "stdout",
     "output_type": "stream",
     "text": [
      "Added user message to memory: what if i add 4 with 9 and multipy the result with 12?\n",
      "=== LLM Response ===\n",
      "Okay, let's do the calculation step-by-step:\n",
      "\n",
      "1. Add 4 and 9:\n",
      "   4 + 9 = 13\n",
      "\n",
      "2. Multiply the result (13) by 12:\n",
      "   13 * 12 = 156\n",
      "\n",
      "So, if we add 4 and 9, and then multiply the result by 12, the final answer is 156.\n",
      "=== Calling Function ===\n",
      "Calling function: uber_10k with args: {\"input\": \"What is the result of 4 + 9 multiplied by 12?\"}\n",
      "=== Function Output ===\n",
      "The provided context information does not contain any information about the result of 4 + 9 multiplied by 12. The context appears to be about financial and legal terminology related to a company's financial statements and loan agreements. Without any relevant information in the given context, I cannot determine the result of the arithmetic expression 4 + 9 multiplied by 12.\n",
      "\n",
      "[ToolOutput(content=\"The provided context information does not contain any information about the result of 4 + 9 multiplied by 12. The context appears to be about financial and legal terminology related to a company's financial statements and loan agreements. Without any relevant information in the given context, I cannot determine the result of the arithmetic expression 4 + 9 multiplied by 12.\", tool_name='uber_10k', raw_input={'input': 'What is the result of 4 + 9 multiplied by 12?'}, raw_output=Response(response=\"The provided context information does not contain any information about the result of 4 + 9 multiplied by 12. The context appears to be about financial and legal terminology related to a company's financial statements and loan agreements. Without any relevant information in the given context, I cannot determine the result of the arithmetic expression 4 + 9 multiplied by 12.\", source_nodes=[NodeWithScore(node=TextNode(id_='ef4a8542-4b73-4e1b-a631-00c9ff2d1ed2', embedding=None, metadata={'page_label': '177', 'file_name': 'uber_2021.pdf', 'file_path': 'data\\\\10k\\\\uber_2021.pdf', 'file_type': 'application/pdf', 'file_size': 1880483, 'creation_date': '2024-07-05', 'last_modified_date': '2024-07-05'}, excluded_embed_metadata_keys=['file_name', 'file_type', 'file_size', 'creation_date', 'last_modified_date', 'last_accessed_date'], excluded_llm_metadata_keys=['file_name', 'file_type', 'file_size', 'creation_date', 'last_modified_date', 'last_accessed_date'], relationships={<NodeRelationship.SOURCE: '1'>: RelatedNodeInfo(node_id='5b64bd51-c2d9-4d48-bf8b-4c94e64bb971', node_type=<ObjectType.DOCUMENT: '4'>, metadata={'page_label': '177', 'file_name': 'uber_2021.pdf', 'file_path': 'data\\\\10k\\\\uber_2021.pdf', 'file_type': 'application/pdf', 'file_size': 1880483, 'creation_date': '2024-07-05', 'last_modified_date': '2024-07-05'}, hash='11ec0604d850418cdcc2050cce4193b2903606b519dad08622946e0c380e4978')}, text='expressed as a percentage yield per annum to maturity being the arithmetic average, rounded up to the nearest four decimal placesand in no event shall the Australian Bank Bill Rate be less than 0.00%.\\n“\\nAustralian Bank BM Rate Borrowing” refers to a Borrowing bearing interest at a rate determined by reference to the Australian Bank Bill Rate.\\n“\\nAustralian Bank Bill Rate Loan” refers to a Loan bearing interest at a rate determined by reference to the Australian Bank Bill Rate.\\n“\\nAvailability Period” means the period from and including the Effective Date to but excluding the earlier of the Maturity Date and the date of termination of the Revolving Commitments.\\n“\\nAvailable Tenor” means, as of any date of determination and with respect to the then-current Benchmark (x) if the then-current Benchmark is a term rate, any tenor for such Benchmark or (y) otherwise, any payment period for interest calculated with reference to such\\nBenchmark, as applicable, that is or may be used for determining the length of an Interest Period pursuant to this Agreement as of such date\\nand, for the avoidance of doubt, shall exclude any tenor for such Benchmark that is removed from the definition of “Interest Period” pursuant\\nto clause (d) of Section 2.21.\\n“\\nBail-In Action” means the exercise of any Write-Down and Conversion Powers by the applicable Resolution Authority in respect of any liability of an Affected Financial Institution.\\n“\\nBail-In Legislation” means, (a) with respect to any EEA Member Country implementing Article 55 of Directive 2014/59/EU of the European Parliament and of the Council of the European Union, the implementing law, regulation, rule or requirement for such EEA Member\\nCountry from time to time which is described in the EU Bail-In Legislation Schedule and (b) with respect to the United Kingdom, \\nPart I of the United Kingdom Banking Act 2009 (as amended from time to time) and any other law, regulation or rule applicable in the United\\nKingdom relating to the resolution of unsound or failing banks, investment firms or other financial institutions or their affiliates (other than\\nthrough liquidation, administration or other insolvency proceedings).\\n“\\nBankruptcy Code” means Chapter 11 of Title 11 of the United States Code, as amended from time to time and any successor statute and all rules and regulations promulgated thereunder.\\n“\\nBankruptcy Event” means an Event of Default of the type described in Section 7.01(h) , (i) or (j).“\\nBarclays” means Barclays Bank PLC. “\\nBenchmark” means, initially, the Adjusted LIBO Rate; provided that, if a Benchmark Transition Event or, as the case may be, an Early Opt-in Election and the Benchmark Replacement Date with respect thereto have occurred with respect to the Adjusted LIBO Rate or\\nthe then-current Benchmark, then “Benchmark” means the applicable Benchmark Replacement to the extent that such Benchmark\\nReplacement has replaced such prior benchmark rate pursuant to clause (a) of Section 2.21.\\n“\\nBenchmark Replacement” means, for any Available Tenor, the first alternative set forth in the order below that can be determined by the Administrative Agent for the applicable Benchmark Replacement Date:\\n5', mimetype='text/plain', start_char_idx=0, end_char_idx=3183, text_template='{metadata_str}\\n\\n{content}', metadata_template='{key}: {value}', metadata_seperator='\\n'), score=0.3830936272986594), NodeWithScore(node=TextNode(id_='11f663af-6d16-4719-94b7-bde7cdd4f758', embedding=None, metadata={'page_label': '186', 'file_name': 'uber_2021.pdf', 'file_path': 'data\\\\10k\\\\uber_2021.pdf', 'file_type': 'application/pdf', 'file_size': 1880483, 'creation_date': '2024-07-05', 'last_modified_date': '2024-07-05'}, excluded_embed_metadata_keys=['file_name', 'file_type', 'file_size', 'creation_date', 'last_modified_date', 'last_accessed_date'], excluded_llm_metadata_keys=['file_name', 'file_type', 'file_size', 'creation_date', 'last_modified_date', 'last_accessed_date'], relationships={<NodeRelationship.SOURCE: '1'>: RelatedNodeInfo(node_id='78ebc975-79cb-4043-97da-c2764129e5a4', node_type=<ObjectType.DOCUMENT: '4'>, metadata={'page_label': '186', 'file_name': 'uber_2021.pdf', 'file_path': 'data\\\\10k\\\\uber_2021.pdf', 'file_type': 'application/pdf', 'file_size': 1880483, 'creation_date': '2024-07-05', 'last_modified_date': '2024-07-05'}, hash='3745dd7330a38538974bf173ef1e15eaad13ad1fc685916320ea462479c4611d')}, text='“Compounded  SOFR”  means  the  compounded  average  of  SOFRs  for  the  applicable  Corresponding  Tenor,  with  the  rate,  ormethodology for this rate, and conventions for this rate (which may include compounding in arrears with a lookback and/or suspension period\\nas\\n a mechanism to determine the interest amount payable prior to the end of each Interest Period) being established by the AdministrativeAgent in accordance with:\\n(1)\\n the rate, or methodology for this rate, and conventions for this rate selected or recommendedby the Relevant Governmental Bodyfor determining compounded SOFR; provided that:\\n(2) if, and to the extent that, the Administrative Agent determines that Compounded SOFRcannot\\nbe determined in accordance with clause (1) above, then the rate, or methodology for this rate, and\\nconventions for this rate that the Administrative Agent determines are substantially consistent with\\nprevailing market convention for determining Compounded SOFR for U.S. dollar-denominated\\nsyndicated credit facilities at such time (as a result of amendment or as originally executed);\\nprovided, further, that if the Administrative Agent decides that any such rate, methodology or\\nconvention determined in accordance with clause (1) or clause (2) is not administratively feasible for the\\nAdministrative Agent, then Compounded SOFR will be deemed unable to be determined for purposes of\\nthe definition of “Benchmark Replacement”.\\n“\\nConnection Income Taxes” means Other Connection Taxes that are imposed on or measured by net income or gross profits (however denominated) or that are franchise Taxes or branch profits Taxes.\\n“\\nConsolidated Adjusted EBITDA” means, for any period, Consolidated Net Income for such period plus , without duplication and tothe extent reflected as a charge in the statement of such Consolidated Net Income for such period, the sum of (a) income tax expense, (b)\\ninterest expense, amortization or write-off of debt discount and debt issuance costs and commissions, discounts and other fees and charges\\nassociated with Indebtedness (including the Loans and loans under the Term Loan Agreement), plus expenses associated with the equity\\ncomponent of, and any mark-to-market losses with respect to, Convertible Notes, (c) depreciation and amortization expense, (d) amortization\\nof intangibles (including, but not limited to, goodwill), (e) any extraordinary charges or losses determined in accordance with GAAP, (f) non-\\ncash stock option and other equity-based compensation expenses and payroll tax expense related to stock option and other equity-based\\ncompensation expenses, (g) any other non-cash charges, non-cash expenses or non-cash losses of the Borrower or any of its Restricted\\nSubsidiaries for such period, including any write-down of intangibles (excluding any such charge, expense or loss incurred in the ordinary\\ncourse of business that constitutes an accrual of, or a reserve for, cash charges for any future period), including, for the avoidance of doubt,\\nnon-cash foreign currency translation losses and any unrealized losses in respect of Swap Agreements (including non-cash losses related to\\ncurrency remeasurement of Indebtedness); \\nprovided, however  that cash payments made in such period or in any future period in respect of such non-cash charges, expenses or losses (excluding any such charge, expense or loss incurred in the ordinary course of business that\\nconstitutes an accrual of, or a reserve for, cash charges for any future period) shall be subtracted from Consolidated Net Income in calculating\\nConsolidated Adjusted EBITDA in the period when such payments are made, (h) transition, integration and similar fees, charges and\\nexpenses related to acquisitions or dispositions, (i) restructuring charges or reserves including write-downs and write-offs, including any one-\\ntime costs incurred in connection with acquisitions or dispositions and costs related to the closure, consolidation and integration of facilities,\\ninformation technology infrastructure and legal entities, and severance and retention bonuses; (j) the amount of cost savings and synergies\\nprojected by the Borrower in good faith to be realized as a result of an acquisition not prohibited hereunder, in each case within the four\\nconsecutive fiscal quarters following the consummation of such acquisition (or following the consummation of the squeeze-out merger in the\\ncase of an acquisition structured as a two-step transaction), calculated as though such cost savings and synergies had been realized on the first\\nday of such period and net of the amount of actual benefits received during such period from such acquisition; \\nprovided  that (i) a duly completed certificate signed\\n14', mimetype='text/plain', start_char_idx=0, end_char_idx=4715, text_template='{metadata_str}\\n\\n{content}', metadata_template='{key}: {value}', metadata_seperator='\\n'), score=0.33127090760465755), NodeWithScore(node=TextNode(id_='9559acad-25e3-4cf7-94c3-6b5583efb02b', embedding=None, metadata={'page_label': '193', 'file_name': 'uber_2021.pdf', 'file_path': 'data\\\\10k\\\\uber_2021.pdf', 'file_type': 'application/pdf', 'file_size': 1880483, 'creation_date': '2024-07-05', 'last_modified_date': '2024-07-05'}, excluded_embed_metadata_keys=['file_name', 'file_type', 'file_size', 'creation_date', 'last_modified_date', 'last_accessed_date'], excluded_llm_metadata_keys=['file_name', 'file_type', 'file_size', 'creation_date', 'last_modified_date', 'last_accessed_date'], relationships={<NodeRelationship.SOURCE: '1'>: RelatedNodeInfo(node_id='8e5ae195-c780-4815-b6cf-e290c5304003', node_type=<ObjectType.DOCUMENT: '4'>, metadata={'page_label': '193', 'file_name': 'uber_2021.pdf', 'file_path': 'data\\\\10k\\\\uber_2021.pdf', 'file_type': 'application/pdf', 'file_size': 1880483, 'creation_date': '2024-07-05', 'last_modified_date': '2024-07-05'}, hash='4c8d512d824f8540e24d444b871c3f765e5d09c3b642dd85b17ffead76f0b8b5')}, text='“Event of Default” has the meaning set forth in Article 7 . “\\nExchange Rate” means, on any day, with respect to the applicable Permitted Foreign Currency, the rate at which such currency may be exchanged into dollars, as set forth at approximately 11:00 a.m., London time, on such day on the Reuters World Currency Page “FX=”\\nfor such currency. \\nIn the event that such rate does not appear on any Reuters World Currency Page, then the Exchange Rate shall be determined by reference to such other publicly available service for displaying exchange rates as may be agreed upon by the Administrative\\nAgent and the Borrower or, in the absence of such agreement, such Exchange Rate shall instead be the arithmetic average of the spot rates of\\nexchange of the Administrative Agent in the market where its foreign currency exchange operations in respect of such currency are then\\nbeing conducted, at or about 10:00 a.m., London time, on such date for the purchase of dollars for delivery two Business Days later; \\nprovided that if at the time of any such determination, for any reason, no such spot rate is being quoted, the Administrative Agent, after consultation\\nwith the Borrower, may use any reasonable and customary method it deems appropriate to determine such rate, and such determination shall\\nbe presumed correct absent manifest error.\\n“\\nExcluded Collateral” means (a) any intent-to-use trademark application prior to the filing of a “Statement of Use” or “Amendment to Allege Use” with respect thereto, to the extent, if any, that, and solely during the period, if any, in which, the grant of a security interest\\ntherein would impair the validity or enforceability of such intent-to-use trademark application under applicable federal law, (b) any\\ncommercial tort claims, (c) any Excluded IP, (d) any patent, trademark or copyright or license or application in respect thereof, in each case\\nto the extent the grant of a security interest therein would violate or invalidate any license or other agreement with any person (other than the\\nBorrower or any Guarantor) relating to such patent, trademark or copyright or license or application in respect thereof or create a right of\\ntermination in favor of any other party thereto (other than the Borrower or any Guarantor) after giving effect to the applicable anti-assignment\\nprovisions of the Uniform Commercial Code (in each case to the extent the relevant limitation was in existence on the date hereof or, in the\\ncase of any patent, trademark or copyright or license or application in respect thereof that is created or acquired after the date hereof, on the\\ndate of creation or acquisition and not incurred in contemplation of the provisions of this paragraph) or other applicable law, other than\\nproceeds and receivables thereof, the assignment of which is expressly deemed effective under applicable law notwithstanding such\\nprohibition, (e) Equity Interests issued by (i) any Excluded Subsidiary, (ii) any Immaterial Subsidiary, (iii) any Foreign Subsidiary that is not\\na Material Foreign Subsidiary or (iv) an entity described in clause (iii) of the definition of “Pledged Equity” in the U.S. Security Agreement\\nto the extent such entity shall have consummated any third party financing with respect to any real estate owned by such entity that does not\\npermit the Equity Interests of such entity to be pledged on the terms set forth in the U.S. Security Agreement and (f) voting Equity Interests\\nissued by any Foreign Subsidiary in excess of 66% (or, in the case of Uber International C.V., 64%) thereof (or, solely in the case of this\\nclause (f), such lesser percentage as is required (i) by applicable law, (ii) by the organizational documents of such Foreign Subsidiary as in\\neffect on the Effective Date (or, in the case of any Foreign Subsidiary created or acquired after the Effective Date, at the time of such creation\\nor acquisition and so long as the relevant limitation was not entered into in contemplation of the provisions of this definition) or (iii) to not\\nresult in material adverse tax consequences to the Borrower and its Subsidiaries); \\nprovided that notwithstanding anything herein to the contrary, properties or assets of the Borrower or a Guarantor shall not constitute Excluded Collateral to the extent they are pledged as\\ncollateral to secure any other Secured Specified Indebtedness.\\n“\\nExcluded IP” has the meaning assigned to such term in the U.S. Security Agreement. 21', mimetype='text/plain', start_char_idx=0, end_char_idx=4456, text_template='{metadata_str}\\n\\n{content}', metadata_template='{key}: {value}', metadata_seperator='\\n'), score=0.3172964882961268)], metadata={'ef4a8542-4b73-4e1b-a631-00c9ff2d1ed2': {'page_label': '177', 'file_name': 'uber_2021.pdf', 'file_path': 'data\\\\10k\\\\uber_2021.pdf', 'file_type': 'application/pdf', 'file_size': 1880483, 'creation_date': '2024-07-05', 'last_modified_date': '2024-07-05'}, '11f663af-6d16-4719-94b7-bde7cdd4f758': {'page_label': '186', 'file_name': 'uber_2021.pdf', 'file_path': 'data\\\\10k\\\\uber_2021.pdf', 'file_type': 'application/pdf', 'file_size': 1880483, 'creation_date': '2024-07-05', 'last_modified_date': '2024-07-05'}, '9559acad-25e3-4cf7-94c3-6b5583efb02b': {'page_label': '193', 'file_name': 'uber_2021.pdf', 'file_path': 'data\\\\10k\\\\uber_2021.pdf', 'file_type': 'application/pdf', 'file_size': 1880483, 'creation_date': '2024-07-05', 'last_modified_date': '2024-07-05'}}), is_error=False)]\n"
     ]
    }
   ],
   "source": [
    "response = agent.chat(\"what if i add 4 with 9 and multipy the result with 12?\")\n",
    "print(str(response))\n",
    "print(response.sources)"
   ]
  },
  {
   "cell_type": "code",
   "execution_count": 68,
   "metadata": {},
   "outputs": [],
   "source": [
    "# EXECUTE THIS IN CMD\n",
    "\n",
    "# !mkdir -p 'data/10k/'\n",
    "# !curl -o 'data/10k/uber_2021.pdf' 'https://raw.githubusercontent.com/run-llama/llama_index/main/docs/docs/examples/data/10k/uber_2021.pdf'\n"
   ]
  },
  {
   "cell_type": "code",
   "execution_count": 72,
   "metadata": {},
   "outputs": [],
   "source": [
    "from llama_index.core.tools import QueryEngineTool, ToolMetadata\n",
    "from llama_index.core import SimpleDirectoryReader, VectorStoreIndex\n",
    "from llama_index.embeddings.huggingface import HuggingFaceEmbedding\n",
    "from llama_index.llms.bedrock_converse import BedrockConverse\n",
    "\n",
    "embed_model = HuggingFaceEmbedding(model_name=r\"C:\\Users\\SIVERMA\\Documents\\Experimenting\\AGENT\\paraphrase-multilingual-MiniLM-L12-v2\")\n",
    "query_llm = BedrockConverse(\n",
    "    model=\"anthropic.claude-3-haiku-20240307-v1:0\",\n",
    "    region_name=\"us-east-1\",\n",
    ")\n",
    "\n",
    "uber_docs = SimpleDirectoryReader(\n",
    "    input_files=[\"./data/10k/uber_2021.pdf\"]\n",
    ").load_data()\n",
    "\n",
    "uber_index = VectorStoreIndex.from_documents(\n",
    "    uber_docs, embed_model=embed_model\n",
    ")\n",
    "uber_engine = uber_index.as_query_engine(similarity_top_k=3, llm=query_llm)\n",
    "query_engine_tool = QueryEngineTool(\n",
    "    query_engine=uber_engine,\n",
    "    metadata=ToolMetadata(\n",
    "        name=\"uber_10k\",\n",
    "        description=(\n",
    "            \"Provides information about Uber financials for year 2021. \"\n",
    "            \"Use a detailed plain text question as input to the tool.\"\n",
    "        ),\n",
    "    ),\n",
    ")"
   ]
  },
  {
   "cell_type": "code",
   "execution_count": 76,
   "metadata": {},
   "outputs": [],
   "source": [
    "from llama_index.core.agent import FunctionCallingAgentWorker\n",
    "\n",
    "agent_worker = FunctionCallingAgentWorker.from_tools(\n",
    "    [query_engine_tool], llm=llm, verbose=True\n",
    ")\n",
    "agent = agent_worker.as_agent()"
   ]
  },
  {
   "cell_type": "code",
   "execution_count": null,
   "metadata": {},
   "outputs": [],
   "source": [
    "response = agent.chat(\n",
    "    \"Tell me both the risk factors and tailwinds for Uber? Do two parallel tool calls.\"\n",
    ")"
   ]
  },
  {
   "cell_type": "code",
   "execution_count": 78,
   "metadata": {},
   "outputs": [
    {
     "name": "stdout",
     "output_type": "stream",
     "text": [
      "In summary, the key risk factors for Uber include non-income tax matters, competitive environment, reliance on independent providers, estimation uncertainties, and credit risk concentration. The key tailwinds appear to be the launch of Uber One, the \"Super App\" integration, growth in advertising merchants, the Cornershop acquisition, and Uber's leading market positions.\n"
     ]
    }
   ],
   "source": [
    "\n",
    "print(str(response))"
   ]
  },
  {
   "cell_type": "code",
   "execution_count": null,
   "metadata": {},
   "outputs": [],
   "source": []
  }
 ],
 "metadata": {
  "kernelspec": {
   "display_name": "AGENTS",
   "language": "python",
   "name": "agents"
  },
  "language_info": {
   "codemirror_mode": {
    "name": "ipython",
    "version": 3
   },
   "file_extension": ".py",
   "mimetype": "text/x-python",
   "name": "python",
   "nbconvert_exporter": "python",
   "pygments_lexer": "ipython3",
   "version": "3.11.1"
  }
 },
 "nbformat": 4,
 "nbformat_minor": 2
}
